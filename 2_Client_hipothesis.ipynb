{
 "cells": [
  {
   "cell_type": "markdown",
   "metadata": {},
   "source": [
    "# <span style=\"color:#007ACC;\"> **Hipothesis**  </span>\n",
    "\n",
    "1. The more remote the house/Zipcode, the bigger the lot and house\n",
    "2. Above average Price per zipcode correlates with better grade and condition \n",
    "3. Price per sqmt is higher in the city than remote places\n",
    "\n",
    "1. the condition of the house correlates with the grade of the house\n",
    "2. The prices of houses tend to be higher in the summer months.\n",
    "3. The price per square meter of houses is higher in densely populated areas compared to remote locations.\n"
   ]
  },
  {
   "cell_type": "markdown",
   "metadata": {},
   "source": [
    "# <span style=\"color:#007ACC;\"> **Client: Jacob Phillips**  </span>\n",
    "## <span style=\"color:#007ACC;\">Profile </span>\n",
    "\n",
    "<img src=\"data/Phillip.png\" alt=\"Beispielbild\" width=\"200\">\n",
    "\n",
    "* Age: 58\n",
    "* Job: History Profesor\n",
    "* Hobies: Sports, being sophisticated, Inviting family/work friends on lavish events\n",
    "\n",
    "\n",
    "\n",
    "\n",
    "\n",
    "**Intention**   - Buying a property\n",
    "\n",
    "**Budget**      - unlimited\n",
    "\n",
    "**House spec.:**\n",
    "* <span style=\"color:grey\">4+ bathrooms, Altern: small house closeby\n",
    "* <span style=\"color:grey\">Big lot, (golf c., tennis c., pool)\n",
    "* <span style=\"color:grey\">historic style\n",
    "* <span style=\"color:grey\">no water front\n",
    "\n",
    "## \n",
    "\n"
   ]
  },
  {
   "cell_type": "markdown",
   "metadata": {},
   "source": [
    "## <span style=\"color:#007ACC;\"> **Additional specs for client**  </span>\n",
    "* The condition/grade of the property must be high\n",
    "* For his sports equipment a big basement is needed\n",
    "* Priorize specifications over avg value even though budget is unlimited"
   ]
  }
 ],
 "metadata": {
  "kernelspec": {
   "display_name": ".venv",
   "language": "python",
   "name": "python3"
  },
  "language_info": {
   "name": "python",
   "version": "3.11.3"
  }
 },
 "nbformat": 4,
 "nbformat_minor": 2
}
